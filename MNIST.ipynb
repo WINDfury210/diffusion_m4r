{
 "cells": [
  {
   "cell_type": "code",
   "execution_count": 2,
   "metadata": {},
   "outputs": [
    {
     "name": "stdout",
     "output_type": "stream",
     "text": [
      "Normalized X range: min=-1.0000, max=1.0000\n"
     ]
    }
   ],
   "source": [
    "import torch\n",
    "from torchvision import datasets, transforms\n",
    "from torch.utils.data import TensorDataset\n",
    "import matplotlib.pyplot as plt\n",
    "import numpy as np\n",
    "\n",
    "def load_mnist_data():\n",
    "    transform = transforms.Compose([\n",
    "        transforms.ToTensor(),\n",
    "        transforms.Normalize((0.5,), (0.5,))\n",
    "    ])\n",
    "    train_dataset = datasets.MNIST(root='./data', train=True, download=True, transform=transform)\n",
    "    X = torch.stack([train_dataset[i][0] for i in range(len(train_dataset))])\n",
    "    y = torch.tensor([train_dataset[i][1] for i in range(len(train_dataset))])\n",
    "    print(f\"Normalized X range: min={X.min().item():.4f}, max={X.max().item():.4f}\")\n",
    "    return TensorDataset(X, y)\n",
    "\n",
    "# 加载数据\n",
    "dataset = load_mnist_data()\n",
    "X, y = dataset.tensors\n",
    "\n",
    "# 为每个类别选择一个样本\n",
    "class_samples = {}\n",
    "for i in range(len(y)):\n",
    "    label = y[i].item()\n",
    "    if label not in class_samples:\n",
    "        class_samples[label] = X[i]\n",
    "    if len(class_samples) == 10:  # 0-9 共 10 个类别\n",
    "        break\n",
    "\n",
    "# 按类别 0-9 排序\n",
    "samples = [class_samples[i] for i in range(10)]\n",
    "\n",
    "# 反归一化以便显示（从 [-1, 1] 转换回 [0, 1]）\n",
    "samples = [(sample * 0.5 + 0.5).clamp(0, 1) for sample in samples]\n",
    "\n",
    "# 绘制 2×5 网格\n",
    "fig, axes = plt.subplots(2, 5, figsize=(10, 4))  # 调整 figsize 以适合 2×5 布局\n",
    "for i, (sample, ax) in enumerate(zip(samples, axes.flatten())):\n",
    "    sample = sample.squeeze().numpy()  # 移除通道维度并转为 numpy\n",
    "    ax.imshow(sample, cmap='gray')\n",
    "    ax.set_title(f'Class {i}')\n",
    "    ax.axis('off')\n",
    "\n",
    "plt.tight_layout()\n",
    "plt.savefig('mnist_samples.png', dpi=300, bbox_inches='tight')\n",
    "plt.close()\n"
   ]
  },
  {
   "cell_type": "code",
   "execution_count": null,
   "metadata": {},
   "outputs": [],
   "source": []
  }
 ],
 "metadata": {
  "kernelspec": {
   "display_name": "Python 3",
   "language": "python",
   "name": "python3"
  },
  "language_info": {
   "codemirror_mode": {
    "name": "ipython",
    "version": 3
   },
   "file_extension": ".py",
   "mimetype": "text/x-python",
   "name": "python",
   "nbconvert_exporter": "python",
   "pygments_lexer": "ipython3",
   "version": "3.10.11"
  }
 },
 "nbformat": 4,
 "nbformat_minor": 2
}
